{
 "cells": [
  {
   "cell_type": "markdown",
   "id": "3e591e7e",
   "metadata": {},
   "source": [
    "## Quantum Dynamical Model for a Frenkel Exciton \n",
    "[Jay Foley and Lane Tolley, University of North Carolina Charlotte](https://foleylab.github.io/)\n",
    "\n",
    "#### objectives\n",
    "-Implement function that will build the Hamiltonian for a Frenkel Exciton within a 2D film\n",
    "\n",
    "#### Summary\n",
    "The time evolution of energy transferred within a 2D crystalline organic film can be described with excitonic degrees of freedom; the purpose of this notebook is to implement a function that will build the hamiltonian for such a system.\n",
    "    "
   ]
  },
  {
   "cell_type": "markdown",
   "id": "7a81af45",
   "metadata": {},
   "source": [
    "## Step 0: Import libraries"
   ]
  },
  {
   "cell_type": "code",
   "execution_count": 8,
   "id": "b3999d65",
   "metadata": {},
   "outputs": [],
   "source": [
    "import numpy as np\n",
    "import scipy\n",
    "import math\n",
    "\n",
    "# May come back and create a vizualization "
   ]
  },
  {
   "cell_type": "markdown",
   "id": "019736e3",
   "metadata": {},
   "source": [
    "## Theory\n",
    "\n",
    "The time evolution of energy transfer within a crystalline 2D film of a few organic monomers can be described with excitonic degrees of freedom. \n",
    "\n",
    "Quantum dynamical systems can be described with the time dependent Schrodinger equation (TDSE):\n",
    "\n",
    "$$ i\\hbar \\frac{d}{dt}\\Psi(x,t) = \\hat{H} \\Psi(x,t) \\tag{1} $$\n",
    "\n",
    "The Hamiltonian $\\hat{H}$ of this system is comprised of three changeable parameters: the number of basis sets, the exciton energy, and interparticle coupling. The number of basis sets will change based upon the number of monomers included within the system, the exciton energy is a value that will be approximated and chosen for the system, and the coupling term will require the use of another function, $\\hat{V}^{A \\rightarrow D}$:\n",
    "\n",
    "$$ \\hat{V}^{A \\rightarrow D} = \\frac{1}{{n^2}{r^3}} \\left( \\hat{\\mu_D}\\cdot\\left<\\mu_A\\right> - 3\\frac{(\\hat{\\mu_D} \\cdot r)(r \\cdot \\left<\\mu_A\\right>)}{r^2}\\right) \\tag{2} $$"
   ]
  },
  {
   "cell_type": "code",
   "execution_count": 23,
   "id": "5d6825c4",
   "metadata": {},
   "outputs": [
    {
     "name": "stdout",
     "output_type": "stream",
     "text": [
      "1.0\n"
     ]
    }
   ],
   "source": [
    "def compute_dd_coupling(mu_d, mu_a, r_vector, n):\n",
    "    \"\"\" Function that computes the dipole dipole coupling contribution of the total energy of a system based upon mu_d,\n",
    "        the transition dipole moment of the donor, mu_a, the transition dipole moment of the acceptor, r_vector, the \n",
    "        distance separating the donor and acceptor, and the refractive index, a paremeter that describes the effect of \n",
    "        the system on light.\n",
    "    \n",
    "    Arguments\n",
    "    ---------\n",
    "    mu_d : numpy array of floats\n",
    "        the transition dipole mooment of the donor\n",
    "    mu_a : numpy array of floats\n",
    "        the transition dipole moment of the acceptor\n",
    "    r : numpy array of floats\n",
    "        the distance separating the donor and acceptor\n",
    "    n : float\n",
    "        refractive index of the medium\n",
    "    \"\"\"\n",
    "\n",
    "    r_scalar = np.sqrt(np.dot(r_vector, r_vector))\n",
    "    \n",
    "    return (1 / (n ** 2 * r_scalar ** 3)) * (np.dot(mu_d, mu_a) - 3 * (np.dot(mu_d, r_vector) * np.dot(r_vector, mu_a)) / r_scalar ** 2)\n",
    "\n",
    "mu_d1 = np.array([0,0,1]) \n",
    "mu_a1 = np.array([0,0,1])\n",
    "r_1 = [1,0,0] \n",
    "n_1 = 1.0\n",
    "\n",
    "dd_1 = compute_dd_coupling(mu_d1, mu_a1, r_1, n_1)\n",
    "print(dd_1)\n",
    "\n",
    "# only change x and z designation for mu_a and mu_d (2D)\n",
    "    "
   ]
  },
  {
   "cell_type": "markdown",
   "id": "d7ab47b6",
   "metadata": {},
   "source": [
    "## The Hamiltonian\n",
    "The Hamiltonian of this system can be tentatively described by eqation 3:\n",
    "\n",
    "$$ \\hat{H} = H_o + \\hat{V}^{A \\rightarrow D} \\tag{3} $$\n",
    "\n",
    "Where $H_o$ is the energy contribution of the exciton with no coupling, and is given by spectral data"
   ]
  },
  {
   "cell_type": "code",
   "execution_count": null,
   "id": "e58fbb63",
   "metadata": {},
   "outputs": [],
   "source": [
    "def build_hamiltonian(H_o, V_AD):\n",
    "    \"\"\" Function that builds the Hamailtonian which models the time evolution of an excitonic system based upon the\n",
    "        field free energy of the system and the dipole dipole coupling of the sysetem\n",
    "        \n",
    "    Arguments\n",
    "    ---------\n",
    "    H_o : numpy array of floats\n",
    "        a numpy array of spectral data fed to the function\n",
    "    V_AD : Float\n",
    "        dipole dipole coupling term that is given by the compute_dd_coupling() function\n",
    "    \"\"\"\n",
    "    \n",
    "    return H_o + V_AD\n"
   ]
  }
 ],
 "metadata": {
  "kernelspec": {
   "display_name": "Python 3 (ipykernel)",
   "language": "python",
   "name": "python3"
  },
  "language_info": {
   "codemirror_mode": {
    "name": "ipython",
    "version": 3
   },
   "file_extension": ".py",
   "mimetype": "text/x-python",
   "name": "python",
   "nbconvert_exporter": "python",
   "pygments_lexer": "ipython3",
   "version": "3.9.12"
  }
 },
 "nbformat": 4,
 "nbformat_minor": 5
}
