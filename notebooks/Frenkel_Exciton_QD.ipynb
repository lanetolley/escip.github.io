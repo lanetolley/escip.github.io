{
 "cells": [
  {
   "cell_type": "markdown",
   "id": "f9eb7504",
   "metadata": {},
   "source": [
    "## Quantum Dynamical Model for a Frenkel Exciton \n",
    "[Jay Foley and Lane Tolley, University of North Carolina Charlotte](https://foleylab.github.io/)\n",
    "\n",
    "#### objectives\n",
    "-Implement function that will build the Hamiltonian for a Frenkel Exciton within a 2D film\n",
    "\n",
    "#### Summary\n",
    "The time evolution of energy transferred within a 2D crystalline organic film can be described with excitonic degrees of freedom; the purpose of this notebook is to implement a function that will build the hamiltonian for such a system.\n",
    "    "
   ]
  },
  {
   "cell_type": "markdown",
   "id": "45ee1539",
   "metadata": {},
   "source": [
    "## Step 0: Import libraries"
   ]
  },
  {
   "cell_type": "code",
   "execution_count": 2,
   "id": "e035518d",
   "metadata": {},
   "outputs": [],
   "source": [
    "import numpy \n",
    "import scipy\n",
    "import math\n",
    "\n",
    "# May come back and create a vizualization "
   ]
  },
  {
   "cell_type": "markdown",
   "id": "12fd1aa0",
   "metadata": {},
   "source": [
    "## Theory\n",
    "\n",
    "The time evolution of energy transfer within a crystalline 2D film of a few organic monomers can be described with excitonic degrees of freedom. \n",
    "\n",
    "Quantum dynamical systems can be described with the time dependent Schrodinger equation (TDSE):\n",
    "\n",
    "$$ i\\hbar \\frac{d}{dt}\\Psi(x,t) = \\hat{H} \\Psi(x,t) \\tag{1} $$\n",
    "\n",
    "The Hamiltonian $$ \\hat{H} $$ of this system is comprised of three changeable parameters: the number of basis sets, the exciton energy, and interparticle coupling.\n"
   ]
  },
  {
   "cell_type": "code",
   "execution_count": null,
   "id": "6ffb12f2",
   "metadata": {},
   "outputs": [],
   "source": []
  }
 ],
 "metadata": {
  "kernelspec": {
   "display_name": "Python 3 (ipykernel)",
   "language": "python",
   "name": "python3"
  },
  "language_info": {
   "codemirror_mode": {
    "name": "ipython",
    "version": 3
   },
   "file_extension": ".py",
   "mimetype": "text/x-python",
   "name": "python",
   "nbconvert_exporter": "python",
   "pygments_lexer": "ipython3",
   "version": "3.9.12"
  }
 },
 "nbformat": 4,
 "nbformat_minor": 5
}
