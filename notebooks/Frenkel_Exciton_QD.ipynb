{
 "cells": [
  {
   "cell_type": "markdown",
   "id": "e350fd3f",
   "metadata": {},
   "source": [
    "## Quantum Dynamical Model for a Frenkel Exciton \n",
    "[Jay Foley and Lane Tolley, University of North Carolina Charlotte](https://foleylab.github.io/)\n",
    "\n",
    "#### objectives\n",
    "-Implement function that will build the Hamiltonian for a Frenkel Exciton within a 2D film\n",
    "\n",
    "#### Summary\n",
    "The time evolution of energy transferred within a 2D crystalline organic film can be described with excitonic degrees of freedom; the purpose of this notebook is to implement a function that will build the hamiltonian for such a system.\n",
    "    "
   ]
  },
  {
   "cell_type": "markdown",
   "id": "83aa399e",
   "metadata": {},
   "source": [
    "## Step 0: Import libraries"
   ]
  },
  {
   "cell_type": "code",
   "execution_count": null,
   "id": "7493fdfc",
   "metadata": {},
   "outputs": [],
   "source": [
    "import numpy \n",
    "import scipy\n",
    "import math\n",
    "\n",
    "# May come back and create a vizualization "
   ]
  }
 ],
 "metadata": {
  "kernelspec": {
   "display_name": "Python 3 (ipykernel)",
   "language": "python",
   "name": "python3"
  },
  "language_info": {
   "codemirror_mode": {
    "name": "ipython",
    "version": 3
   },
   "file_extension": ".py",
   "mimetype": "text/x-python",
   "name": "python",
   "nbconvert_exporter": "python",
   "pygments_lexer": "ipython3",
   "version": "3.9.12"
  }
 },
 "nbformat": 4,
 "nbformat_minor": 5
}
